{
 "cells": [
  {
   "cell_type": "code",
   "execution_count": 15,
   "id": "62c46f7e-48da-4d35-99fb-d80b03a0218b",
   "metadata": {},
   "outputs": [
    {
     "ename": "ModuleNotFoundError",
     "evalue": "No module named 'pymongo'",
     "output_type": "error",
     "traceback": [
      "\u001b[0;31m---------------------------------------------------------------------------\u001b[0m",
      "\u001b[0;31mModuleNotFoundError\u001b[0m                       Traceback (most recent call last)",
      "Cell \u001b[0;32mIn[15], line 2\u001b[0m\n\u001b[1;32m      1\u001b[0m \u001b[38;5;66;03m# Import libraries\u001b[39;00m\n\u001b[0;32m----> 2\u001b[0m \u001b[38;5;28;01mfrom\u001b[39;00m \u001b[38;5;21;01mpymongo\u001b[39;00m \u001b[38;5;28;01mimport\u001b[39;00m MongoClient\n\u001b[1;32m      3\u001b[0m \u001b[38;5;28;01mfrom\u001b[39;00m \u001b[38;5;21;01mpprint\u001b[39;00m \u001b[38;5;28;01mimport\u001b[39;00m pprint\n\u001b[1;32m      5\u001b[0m \u001b[38;5;66;03m# Create MongoDB client\u001b[39;00m\n",
      "\u001b[0;31mModuleNotFoundError\u001b[0m: No module named 'pymongo'"
     ]
    }
   ],
   "source": [
    "# Import libraries\n",
    "from pymongo import MongoClient\n",
    "from pprint import pprint\n",
    "\n",
    "# Create MongoDB client\n",
    "client = MongoClient('mongodb://localhost:27017/')\n",
    "\n",
    "# List all databases\n",
    "print(client.list_database_names())\n",
    "\n",
    "# Set the database and collection\n",
    "db = client.uk_food\n",
    "establishments = db.establishments\n",
    "\n",
    "# List collections in the database\n",
    "print(db.list_collection_names())\n",
    "\n",
    "# Print a single document from the establishments collection\n",
    "pprint(establishments.find_one())\n"
   ]
  },
  {
   "cell_type": "code",
   "execution_count": null,
   "id": "8ffb4d2f-fa47-4c16-a07c-5fa30f6fdbb3",
   "metadata": {},
   "outputs": [],
   "source": [
    "new_restaurant = {\n",
    "    \"BusinessName\":\"Penang Flavours\",\n",
    "    \"BusinessType\":\"Restaurant/Cafe/Canteen\",\n",
    "    \"BusinessTypeID\":\"\",\n",
    "    \"AddressLine1\":\"Penang Flavours\",\n",
    "    \"AddressLine2\":\"146A Plumstead Rd\",\n",
    "    \"AddressLine3\":\"London\",\n",
    "    \"AddressLine4\":\"\",\n",
    "    \"PostCode\":\"SE18 7DY\",\n",
    "    \"Phone\":\"\",\n",
    "    \"LocalAuthorityCode\":\"511\",\n",
    "    \"LocalAuthorityName\":\"Greenwich\",\n",
    "    \"LocalAuthorityWebSite\":\"http://www.royalgreenwich.gov.uk\",\n",
    "    \"LocalAuthorityEmailAddress\":\"health@royalgreenwich.gov.uk\",\n",
    "    \"scores\":{\n",
    "        \"Hygiene\":\"\",\n",
    "        \"Structural\":\"\",\n",
    "        \"ConfidenceInManagement\":\"\"\n",
    "    },\n",
    "    \"SchemeType\":\"FHRS\",\n",
    "    \"geocode\":{\n",
    "        \"longitude\":\"0.08384000\",\n",
    "        \"latitude\":\"51.49014200\"\n",
    "    },\n",
    "    \"RightToReply\":\"\",\n",
    "    \"Distance\":4623.9723280747176,\n",
    "    \"NewRatingPending\":True\n",
    "}\n",
    "\n",
    "establishments.insert_one(new_restaurant)\n"
   ]
  },
  {
   "cell_type": "code",
   "execution_count": null,
   "id": "149968f9-138f-4555-8edd-0f3113816dcc",
   "metadata": {},
   "outputs": [],
   "source": [
    "result = establishments.find_one({\"BusinessType\": \"Restaurant/Cafe/Canteen\"}, {\"BusinessTypeID\": 1, \"BusinessType\": 1})\n",
    "pprint(result)\n"
   ]
  },
  {
   "cell_type": "code",
   "execution_count": null,
   "id": "1f0738bc-db33-4e06-ae57-1a580f610df0",
   "metadata": {},
   "outputs": [],
   "source": [
    "establishments.update_one(\n",
    "    {\"BusinessName\": \"Penang Flavours\"},\n",
    "    {\"$set\": {\"BusinessTypeID\": result[\"BusinessTypeID\"]}}\n",
    ")\n"
   ]
  },
  {
   "cell_type": "code",
   "execution_count": null,
   "id": "11958aa7-6d2e-4b31-9c36-cbb083a0070e",
   "metadata": {},
   "outputs": [],
   "source": [
    "dover_count = establishments.count_documents({\"LocalAuthorityName\": \"Dover\"})\n",
    "print(f\"Number of establishments in Dover: {dover_count}\")\n"
   ]
  },
  {
   "cell_type": "code",
   "execution_count": null,
   "id": "9d95c753-5846-435b-9325-be40502c88f9",
   "metadata": {},
   "outputs": [],
   "source": [
    "establishments.delete_many({\"LocalAuthorityName\": \"Dover\"})\n"
   ]
  },
  {
   "cell_type": "code",
   "execution_count": null,
   "id": "5cb5850b-a15a-4ba0-aa73-3999c1c3d141",
   "metadata": {},
   "outputs": [],
   "source": [
    "dover_count_after = establishments.count_documents({\"LocalAuthorityName\": \"Dover\"})\n",
    "print(f\"Number of establishments in Dover after deletion: {dover_count_after}\")\n"
   ]
  },
  {
   "cell_type": "code",
   "execution_count": null,
   "id": "267e21ec-ff70-4b60-836d-87e2a1709c50",
   "metadata": {},
   "outputs": [],
   "source": [
    "establishments.update_many(\n",
    "    {},\n",
    "    [{\"$set\": {\"geocode.latitude\": {\"$toDouble\": \"$geocode.latitude\"}, \"geocode.longitude\": {\"$toDouble\": \"$geocode.longitude\"}}}]\n",
    ")\n"
   ]
  },
  {
   "cell_type": "code",
   "execution_count": null,
   "id": "2680f648-6c8f-4f1c-863a-49a9af382e81",
   "metadata": {},
   "outputs": [],
   "source": [
    "establishments.update_many(\n",
    "    {\"RatingValue\": {\"$type\": \"string\"}},\n",
    "    [{\"$set\": {\"RatingValue\": {\"$toInt\": \"$RatingValue\"}}}]\n",
    ")\n"
   ]
  },
  {
   "cell_type": "code",
   "execution_count": null,
   "id": "9b1aef28-a0bf-4b5d-88ad-721409ff1d7a",
   "metadata": {},
   "outputs": [],
   "source": [
    "hygiene_20 = establishments.find({\"scores.Hygiene\": 20})\n",
    "for establishment in hygiene_20:\n",
    "    pprint(establishment)\n"
   ]
  },
  {
   "cell_type": "code",
   "execution_count": null,
   "id": "5a2bac52-48f3-4286-ace4-c048766c6953",
   "metadata": {},
   "outputs": [],
   "source": [
    "london_establishments = establishments.find({\"LocalAuthorityName\": {\"$regex\": \"London\"}, \"RatingValue\": {\"$gte\": 4}})\n",
    "for establishment in london_establishments:\n",
    "    pprint(establishment)\n"
   ]
  },
  {
   "cell_type": "code",
   "execution_count": null,
   "id": "da6e1749-d3f9-4c1c-b4e6-d3e18c4237b4",
   "metadata": {},
   "outputs": [],
   "source": [
    "penang_flavours = establishments.find_one({\"BusinessName\": \"Penang Flavours\"})\n",
    "lat, lon = penang_flavours[\"geocode\"][\"latitude\"], penang_flavours[\"geocode\"][\"longitude\"]\n",
    "\n",
    "top_5_establishments = establishments.find({\n",
    "    \"RatingValue\": 5,\n",
    "    \"geocode.latitude\": {\"$gte\": lat - 0.01, \"$lte\": lat + 0.01},\n",
    "    \"geocode.longitude\": {\"$gte\": lon - 0.01, \"$lte\": lon + 0.01}\n",
    "}).sort(\"scores.Hygiene\", 1).limit(5)\n",
    "\n",
    "for establishment in top_5_establishments:\n",
    "    pprint(establishment)\n"
   ]
  },
  {
   "cell_type": "code",
   "execution_count": null,
   "id": "69f193f6-5466-46e1-b8a3-263dafacfc7d",
   "metadata": {},
   "outputs": [],
   "source": [
    "pipeline = [\n",
    "    {\"$match\": {\"scores.Hygiene\": 0}},\n",
    "    {\"$group\": {\"_id\": \"$LocalAuthorityName\", \"count\": {\"$sum\": 1}}},\n",
    "    {\"$sort\": {\"count\": -1}},\n",
    "    {\"$limit\": 10}\n",
    "]\n",
    "top_local_authorities = list(establishments.aggregate(pipeline))\n",
    "\n",
    "pprint(top_local_authorities)\n"
   ]
  }
 ],
 "metadata": {
  "kernelspec": {
   "display_name": "Python 3 (ipykernel)",
   "language": "python",
   "name": "python3"
  },
  "language_info": {
   "codemirror_mode": {
    "name": "ipython",
    "version": 3
   },
   "file_extension": ".py",
   "mimetype": "text/x-python",
   "name": "python",
   "nbconvert_exporter": "python",
   "pygments_lexer": "ipython3",
   "version": "3.12.4"
  }
 },
 "nbformat": 4,
 "nbformat_minor": 5
}
